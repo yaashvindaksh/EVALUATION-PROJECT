{
 "cells": [
  {
   "cell_type": "code",
   "execution_count": null,
   "id": "e8917e03",
   "metadata": {},
   "outputs": [],
   "source": [
    "import pandas as pd\n",
    "import seaborn as sns\n",
    "import numpy as np\n",
    "import matplotlib.pyplot as plt\n",
    "%matplotlib inline\n",
    "\n",
    "import warnings\n",
    "warnings.filterwarnings('ignore')"
   ]
  },
  {
   "cell_type": "code",
   "execution_count": null,
   "id": "c3052f8a",
   "metadata": {},
   "outputs": [],
   "source": [
    "df= pd.read_csv('https://raw.githubusercontent.com/dsrscientist/Data-Science-ML-Capstone-Projects/master/baseball.csv')"
   ]
  },
  {
   "cell_type": "code",
   "execution_count": null,
   "id": "64bd5124",
   "metadata": {},
   "outputs": [],
   "source": [
    "df.head()"
   ]
  },
  {
   "cell_type": "code",
   "execution_count": null,
   "id": "e7cf7f2e",
   "metadata": {},
   "outputs": [],
   "source": [
    "# Input features: Runs, At Bats, Hits, Doubles, Triples, Homeruns, Walks, Strikeouts, Stolen Bases, Runs Allowed, \n",
    "# Earned Runs, Earned Run Average (ERA), Shutouts, Saves, Complete Games and Errors\n",
    "\n",
    "#R – Runs scored: number of times a player crosses home plate\n",
    "#AB – At bat: plate appearances, not including bases on balls, being hit by pitch, sacrifices, interference, or obstruction\n",
    "#H – Hit: reaching base because of a batted, fair ball without error by the defense\n",
    "#2B – Double: hits on which the batter reaches second base safely without the contribution of a fielding error\n",
    "#3B – Triple: hits on which the batter reaches third base safely without the contribution of a fielding error\n",
    "#HR – Home runs: hits on which the batter successfully touched all four bases, without the contribution of a fielding error\n",
    "#BB – Base on balls (also called a \"walk\"): hitter not swinging at four pitches called out of the strike zone and awarded first base.\n",
    "#SB – Stolen base: number of bases advanced by the runner while the ball is in the possession of the defense\n",
    "#"
   ]
  },
  {
   "cell_type": "code",
   "execution_count": null,
   "id": "a157102f",
   "metadata": {},
   "outputs": [],
   "source": [
    " df.info()"
   ]
  },
  {
   "cell_type": "code",
   "execution_count": null,
   "id": "71e15fbe",
   "metadata": {},
   "outputs": [],
   "source": [
    "df.shape"
   ]
  },
  {
   "cell_type": "code",
   "execution_count": null,
   "id": "62905b80",
   "metadata": {},
   "outputs": [],
   "source": [
    "df.describe().T"
   ]
  },
  {
   "cell_type": "code",
   "execution_count": null,
   "id": "84ffe306",
   "metadata": {},
   "outputs": [],
   "source": [
    "df.describe().T"
   ]
  },
  {
   "cell_type": "code",
   "execution_count": null,
   "id": "30070a10",
   "metadata": {},
   "outputs": [],
   "source": [
    "# Target variable is W\n",
    "df.W.unique()"
   ]
  },
  {
   "cell_type": "code",
   "execution_count": null,
   "id": "3f4604d7",
   "metadata": {},
   "outputs": [],
   "source": [
    "#Analyse Target variable first\n",
    "sns.distplot(df.W)"
   ]
  },
  {
   "cell_type": "code",
   "execution_count": null,
   "id": "beb54bab",
   "metadata": {},
   "outputs": [],
   "source": [
    "sns.histplot(df.W, bins=30)"
   ]
  },
  {
   "cell_type": "code",
   "execution_count": null,
   "id": "e8f3a27b",
   "metadata": {},
   "outputs": [],
   "source": [
    "# First of all lets see the distrivution of all features\n",
    "\n",
    "for i in df.columns:\n",
    "    sns.distplot(df[i])\n",
    "    plt.show()"
   ]
  },
  {
   "cell_type": "code",
   "execution_count": null,
   "id": "44391fc0",
   "metadata": {},
   "outputs": [],
   "source": [
    "df.isnull().sum()"
   ]
  },
  {
   "cell_type": "code",
   "execution_count": null,
   "id": "7cd99369",
   "metadata": {},
   "outputs": [],
   "source": [
    "sns.heatmap(df.isna())"
   ]
  },
  {
   "cell_type": "code",
   "execution_count": null,
   "id": "bbe82ec1",
   "metadata": {},
   "outputs": [],
   "source": [
    "sns.heatmap(df.isnull())"
   ]
  },
  {
   "cell_type": "code",
   "execution_count": null,
   "id": "d7f23286",
   "metadata": {},
   "outputs": [],
   "source": [
    "df.corr()"
   ]
  },
  {
   "cell_type": "code",
   "execution_count": null,
   "id": "1cbade85",
   "metadata": {},
   "outputs": [],
   "source": [
    "df.columns"
   ]
  },
  {
   "cell_type": "code",
   "execution_count": null,
   "id": "9f1e4d27",
   "metadata": {},
   "outputs": [],
   "source": [
    "df=df[[ 'R', 'AB', 'H', '2B', '3B', 'HR', 'BB', 'SO', 'SB', 'RA', 'ER',\n",
    "       'ERA', 'CG', 'SHO', 'SV', 'E','W']]"
   ]
  },
  {
   "cell_type": "code",
   "execution_count": null,
   "id": "f0e3f8fc",
   "metadata": {},
   "outputs": [],
   "source": [
    "plt.figure(figsize=(12,10))\n",
    "sns.heatmap(df.corr(),annot=True,linecolor='white',linewidths=.25)"
   ]
  },
  {
   "cell_type": "code",
   "execution_count": null,
   "id": "0326c1e7",
   "metadata": {},
   "outputs": [],
   "source": []
  },
  {
   "cell_type": "code",
   "execution_count": null,
   "id": "746e5034",
   "metadata": {},
   "outputs": [],
   "source": []
  },
  {
   "cell_type": "code",
   "execution_count": null,
   "id": "1018c657",
   "metadata": {},
   "outputs": [],
   "source": []
  },
  {
   "cell_type": "code",
   "execution_count": null,
   "id": "32a9b8a6",
   "metadata": {},
   "outputs": [],
   "source": []
  },
  {
   "cell_type": "code",
   "execution_count": null,
   "id": "dbf9426d",
   "metadata": {},
   "outputs": [],
   "source": []
  }
 ],
 "metadata": {
  "kernelspec": {
   "display_name": "Python 3 (ipykernel)",
   "language": "python",
   "name": "python3"
  },
  "language_info": {
   "codemirror_mode": {
    "name": "ipython",
    "version": 3
   },
   "file_extension": ".py",
   "mimetype": "text/x-python",
   "name": "python",
   "nbconvert_exporter": "python",
   "pygments_lexer": "ipython3",
   "version": "3.9.13"
  }
 },
 "nbformat": 4,
 "nbformat_minor": 5
}
