{
 "cells": [
  {
   "cell_type": "code",
   "execution_count": null,
   "id": "985cb374",
   "metadata": {},
   "outputs": [],
   "source": [
    "import pandas as pd\n",
    "import numpy as np\n",
    "from sklearn.model_selection import train_test_split, GridSearchCV\n",
    "from sklearn.metrics import accuracy_score, confusion_matrix, roc_curve, roc_auc_score, classification_report\n",
    "import matplotlib.pyplot as plt\n",
    "%matplotlib inline\n",
    "import seaborn as sns\n",
    "import pickle\n",
    "\n",
    "\n",
    "\n",
    "import warnings\n",
    "warnings.filterwarnings('ignore')"
   ]
  },
  {
   "cell_type": "code",
   "execution_count": 1,
   "id": "e84ecd06",
   "metadata": {},
   "outputs": [
    {
     "ename": "NameError",
     "evalue": "name 'pd' is not defined",
     "output_type": "error",
     "traceback": [
      "\u001b[1;31m---------------------------------------------------------------------------\u001b[0m",
      "\u001b[1;31mNameError\u001b[0m                                 Traceback (most recent call last)",
      "\u001b[1;32m~\\AppData\\Local\\Temp\\ipykernel_11096\\2025153063.py\u001b[0m in \u001b[0;36m<module>\u001b[1;34m\u001b[0m\n\u001b[1;32m----> 1\u001b[1;33m \u001b[0mdata\u001b[0m \u001b[1;33m=\u001b[0m \u001b[0mpd\u001b[0m\u001b[1;33m.\u001b[0m\u001b[0mread_csv\u001b[0m\u001b[1;33m(\u001b[0m\u001b[1;34m'https://raw.githubusercontent.com/dsrscientist/dataset3/main/weatherAUS.csv'\u001b[0m\u001b[1;33m)\u001b[0m\u001b[1;33m\u001b[0m\u001b[1;33m\u001b[0m\u001b[0m\n\u001b[0m\u001b[0;32m      2\u001b[0m \u001b[1;33m\u001b[0m\u001b[0m\n\u001b[0;32m      3\u001b[0m \u001b[0mdata\u001b[0m\u001b[1;33m.\u001b[0m\u001b[0mhead\u001b[0m\u001b[1;33m(\u001b[0m\u001b[1;33m)\u001b[0m\u001b[1;33m\u001b[0m\u001b[1;33m\u001b[0m\u001b[0m\n",
      "\u001b[1;31mNameError\u001b[0m: name 'pd' is not defined"
     ]
    }
   ],
   "source": [
    "data = pd.read_csv('https://raw.githubusercontent.com/dsrscientist/dataset3/main/weatherAUS.csv')\n",
    "\n",
    "data.head()"
   ]
  },
  {
   "cell_type": "code",
   "execution_count": null,
   "id": "ef9a3d6e",
   "metadata": {},
   "outputs": [],
   "source": [
    "data.columns"
   ]
  },
  {
   "cell_type": "code",
   "execution_count": null,
   "id": "d39c06ae",
   "metadata": {},
   "outputs": [],
   "source": [
    "data.shape"
   ]
  },
  {
   "cell_type": "code",
   "execution_count": null,
   "id": "1301f308",
   "metadata": {},
   "outputs": [],
   "source": [
    "data.info()"
   ]
  },
  {
   "cell_type": "code",
   "execution_count": null,
   "id": "27e1f232",
   "metadata": {},
   "outputs": [],
   "source": [
    "data.isnull().sum()"
   ]
  },
  {
   "cell_type": "code",
   "execution_count": null,
   "id": "0337ce86",
   "metadata": {},
   "outputs": [],
   "source": [
    "elements = data.select_dtypes(include=['object']).columns\n",
    "\n",
    "print(elements)\n",
    "\n",
    "for i in elements:\n",
    "    data[i] = data[i].fillna(data[i].mode()[0])"
   ]
  },
  {
   "cell_type": "code",
   "execution_count": null,
   "id": "0bc4b164",
   "metadata": {},
   "outputs": [],
   "source": [
    "cont = data.select_dtypes(include=['float']).columns\n",
    "\n",
    "print(cont)\n",
    "\n",
    "for i in cont:\n",
    "    data[i] = data[i].fillna(data[i].mean())"
   ]
  },
  {
   "cell_type": "code",
   "execution_count": null,
   "id": "bc10c9fb",
   "metadata": {},
   "outputs": [],
   "source": [
    "data.isnull().sum()"
   ]
  },
  {
   "cell_type": "code",
   "execution_count": null,
   "id": "d0944912",
   "metadata": {},
   "outputs": [],
   "source": [
    "data.head()"
   ]
  },
  {
   "cell_type": "code",
   "execution_count": null,
   "id": "8a6623a0",
   "metadata": {},
   "outputs": [],
   "source": [
    "# Extract the Day and Month from Date column.\n",
    "\n",
    "data['Day']= data['Date'].str.split('-').str[2]\n",
    "data['Month']= data['Date'].str.split('-').str[1]\n",
    "data['Year'] = data['Date'].str.split('-').str[0]\n",
    "\n",
    "data.head()"
   ]
  },
  {
   "cell_type": "code",
   "execution_count": null,
   "id": "1acbd9c2",
   "metadata": {},
   "outputs": [],
   "source": [
    "data['Month'].unique()"
   ]
  },
  {
   "cell_type": "code",
   "execution_count": null,
   "id": "0fcc51d4",
   "metadata": {},
   "outputs": [],
   "source": [
    "data['Year'].unique()"
   ]
  },
  {
   "cell_type": "code",
   "execution_count": null,
   "id": "c3f6f539",
   "metadata": {},
   "outputs": [],
   "source": [
    "data['Day'].unique()"
   ]
  },
  {
   "cell_type": "code",
   "execution_count": null,
   "id": "085c37d2",
   "metadata": {},
   "outputs": [],
   "source": [
    "#Converting the datatype for newly created features\n",
    "\n",
    "data['Day'] = data['Day'].astype(int)\n",
    "data['Month'] = data['Month'].astype(int)\n",
    "data['Year'] = data['Year'].astype(int"
   ]
  },
  {
   "cell_type": "code",
   "execution_count": null,
   "id": "37b0082c",
   "metadata": {},
   "outputs": [],
   "source": [
    "data['Location'].unique()"
   ]
  },
  {
   "cell_type": "code",
   "execution_count": null,
   "id": "ae81551b",
   "metadata": {},
   "outputs": [],
   "source": [
    "plt.figure(figsize=(20,6))\n",
    "sns.countplot(data['Location'])\n",
    "print(data['Location'].value_counts())"
   ]
  },
  {
   "cell_type": "code",
   "execution_count": null,
   "id": "a8433811",
   "metadata": {},
   "outputs": [],
   "source": [
    "data['WindGustDir'].unique()"
   ]
  },
  {
   "cell_type": "code",
   "execution_count": null,
   "id": "c786224b",
   "metadata": {},
   "outputs": [],
   "source": [
    "plt.figure(figsize=(20,6))\n",
    "sns.countplot(data['WindGustDir'])\n",
    "print(data['WindGustDir'].value_counts())"
   ]
  },
  {
   "cell_type": "code",
   "execution_count": null,
   "id": "37b8de54",
   "metadata": {},
   "outputs": [],
   "source": [
    "plt.figure(figsize=(20,6))\n",
    "sns.countplot(data['WindDir9am'])\n",
    "print(data['WindDir9am'].value_counts())"
   ]
  },
  {
   "cell_type": "code",
   "execution_count": null,
   "id": "046d8a14",
   "metadata": {},
   "outputs": [],
   "source": [
    "plt.figure(figsize=(20,6))\n",
    "sns.countplot(data['WindDir3pm'])\n",
    "print(data['WindDir3pm'].value_counts())"
   ]
  },
  {
   "cell_type": "code",
   "execution_count": null,
   "id": "7a9ef16f",
   "metadata": {},
   "outputs": [],
   "source": [
    "plt.figure(figsize=(10,6))\n",
    "\n",
    "# define Seaborn color palette to use\n",
    "palette_color = sns.color_palette('bright')\n",
    "  \n",
    "# plotting data on chart\n",
    "plt.pie(data['RainToday'].value_counts()*100.0 /len(data),\n",
    "        labels=['NO', 'Yes'],\n",
    "        colors=palette_color,\n",
    "        autopct='%.2f%%')\n",
    "  \n",
    "# displaying chart\n",
    "plt.title('% Rain Today')\n",
    "plt.show()"
   ]
  },
  {
   "cell_type": "code",
   "execution_count": null,
   "id": "1a45c7e4",
   "metadata": {},
   "outputs": [],
   "source": [
    "plt.figure(figsize=(10,6))\n",
    "\n",
    "# define Seaborn color palette to use\n",
    "palette_color = sns.color_palette('bright')\n",
    "  \n",
    "# plotting data on chart\n",
    "plt.pie(data['RainTomorrow'].value_counts()*100.0 /len(data),\n",
    "        labels=['NO', 'Yes'],\n",
    "        colors=palette_color,\n",
    "        autopct='%.2f%%')\n",
    "  \n",
    "# displaying chart\n",
    "plt.title('% Rain Today')\n",
    "plt.show()"
   ]
  },
  {
   "cell_type": "code",
   "execution_count": null,
   "id": "9497e90d",
   "metadata": {},
   "outputs": [],
   "source": [
    "sns.distplot(data['MinTemp'])"
   ]
  },
  {
   "cell_type": "code",
   "execution_count": null,
   "id": "2b6254e1",
   "metadata": {},
   "outputs": [],
   "source": [
    "sns.distplot(data['MaxTemp'])"
   ]
  },
  {
   "cell_type": "code",
   "execution_count": null,
   "id": "f3a429b9",
   "metadata": {},
   "outputs": [],
   "source": [
    "sns.distplot(data['Rainfall'])"
   ]
  },
  {
   "cell_type": "code",
   "execution_count": null,
   "id": "d69a07bf",
   "metadata": {},
   "outputs": [],
   "source": [
    "sns.distplot(data['Evaporation'])"
   ]
  },
  {
   "cell_type": "code",
   "execution_count": null,
   "id": "62a95ffa",
   "metadata": {},
   "outputs": [],
   "source": [
    "sns.distplot(data['Sunshine'])"
   ]
  },
  {
   "cell_type": "code",
   "execution_count": null,
   "id": "9d380f05",
   "metadata": {},
   "outputs": [],
   "source": [
    "sns.distplot(data['WindGustSpeed'])"
   ]
  },
  {
   "cell_type": "code",
   "execution_count": null,
   "id": "f0889aa1",
   "metadata": {},
   "outputs": [],
   "source": [
    "sns.distplot(data['WindSpeed9am'])"
   ]
  },
  {
   "cell_type": "code",
   "execution_count": null,
   "id": "121e1923",
   "metadata": {},
   "outputs": [],
   "source": [
    "sns.distplot(data['WindSpeed3pm'])"
   ]
  },
  {
   "cell_type": "code",
   "execution_count": null,
   "id": "5441c55d",
   "metadata": {},
   "outputs": [],
   "source": [
    "sns.distplot(data['Humidity9am'])"
   ]
  },
  {
   "cell_type": "code",
   "execution_count": null,
   "id": "2008c17e",
   "metadata": {},
   "outputs": [],
   "source": [
    "sns.distplot(data['Humidity3pm'])"
   ]
  },
  {
   "cell_type": "code",
   "execution_count": null,
   "id": "4e278b49",
   "metadata": {},
   "outputs": [],
   "source": []
  },
  {
   "cell_type": "code",
   "execution_count": null,
   "id": "4f7fca6a",
   "metadata": {},
   "outputs": [],
   "source": []
  }
 ],
 "metadata": {
  "kernelspec": {
   "display_name": "Python 3 (ipykernel)",
   "language": "python",
   "name": "python3"
  },
  "language_info": {
   "codemirror_mode": {
    "name": "ipython",
    "version": 3
   },
   "file_extension": ".py",
   "mimetype": "text/x-python",
   "name": "python",
   "nbconvert_exporter": "python",
   "pygments_lexer": "ipython3",
   "version": "3.9.13"
  }
 },
 "nbformat": 4,
 "nbformat_minor": 5
}
