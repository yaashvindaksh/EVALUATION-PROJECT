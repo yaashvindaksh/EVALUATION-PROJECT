{
 "cells": [
  {
   "cell_type": "code",
   "execution_count": null,
   "id": "aa4fe23b",
   "metadata": {},
   "outputs": [],
   "source": [
    "\n",
    "# Lets Import all required libraries\n",
    "import numpy as np\n",
    "import pandas as pd\n",
    "import seaborn as sns\n",
    "import matplotlib.pyplot as plt\n",
    "import datetime as dt\n",
    "import warnings\n",
    "warnings.filterwarnings('ignore')\n",
    "     "
   ]
  },
  {
   "cell_type": "code",
   "execution_count": null,
   "id": "131f805e",
   "metadata": {},
   "outputs": [],
   "source": [
    " Lets import dataset using csv file:\n",
    "df=pd.read_csv(\"https://raw.githubusercontent.com/amit-matreja/Temperature_Forecast_Project_using_ML/main/temperature.csv\")\n",
    "df\n",
    "     \n"
   ]
  },
  {
   "cell_type": "code",
   "execution_count": null,
   "id": "7971e5fe",
   "metadata": {},
   "outputs": [],
   "source": [
    "# Lets check top 10 columns of the dataset\n",
    "df.head(10)\n",
    "     "
   ]
  },
  {
   "cell_type": "code",
   "execution_count": null,
   "id": "9e8f939b",
   "metadata": {},
   "outputs": [],
   "source": [
    "df.tail(10)"
   ]
  },
  {
   "cell_type": "code",
   "execution_count": null,
   "id": "59c9370c",
   "metadata": {},
   "outputs": [],
   "source": [
    "df.shape"
   ]
  },
  {
   "cell_type": "code",
   "execution_count": null,
   "id": "d4a777ea",
   "metadata": {},
   "outputs": [],
   "source": [
    "# lets check information regarding the dataset\n",
    "df.info()\n",
    "     "
   ]
  },
  {
   "cell_type": "code",
   "execution_count": null,
   "id": "c350180b",
   "metadata": {},
   "outputs": [],
   "source": [
    "df.columns"
   ]
  },
  {
   "cell_type": "code",
   "execution_count": null,
   "id": "cc46a57f",
   "metadata": {},
   "outputs": [],
   "source": [
    "df.isnull().sum()"
   ]
  },
  {
   "cell_type": "code",
   "execution_count": null,
   "id": "e4cd7068",
   "metadata": {},
   "outputs": [],
   "source": [
    "sns.heatmap(df.isnull())\n",
    "plt.title(\"Null values\")\n",
    "plt.show()"
   ]
  },
  {
   "cell_type": "code",
   "execution_count": null,
   "id": "e89d6ac5",
   "metadata": {},
   "outputs": [],
   "source": [
    "df['station'].unique()"
   ]
  },
  {
   "cell_type": "code",
   "execution_count": null,
   "id": "7d5dec61",
   "metadata": {},
   "outputs": [],
   "source": [
    "df['station'].iloc[7750]=1.0\n",
    "df['station'].iloc[7751]=2.0"
   ]
  },
  {
   "cell_type": "code",
   "execution_count": null,
   "id": "71542b75",
   "metadata": {},
   "outputs": [],
   "source": [
    "df['Date'].iloc[7750]='31-08-2017'\n",
    "df['Date'].iloc[7751]='31-08-2017'"
   ]
  },
  {
   "cell_type": "code",
   "execution_count": null,
   "id": "7957e899",
   "metadata": {},
   "outputs": [],
   "source": [
    "df.skew()"
   ]
  },
  {
   "cell_type": "code",
   "execution_count": null,
   "id": "dde42388",
   "metadata": {},
   "outputs": [],
   "source": [
    "\n",
    "# First lets convert null values in columns which don't have skewness with mean values, lets find out mean values.\n",
    "print(\"Mean of Present_Tmax = \", df[\"Present_Tmax\"].mean())\n",
    "print(\"Mean of Present_Tmin = \", df[\"Present_Tmin\"].mean())\n",
    "print(\"Mean of LDAPS_RHmin = \", df[\"LDAPS_RHmin\"].mean())\n",
    "print(\"Mean of LDAPS_Tmax_lapse = \", df[\"LDAPS_Tmax_lapse\"].mean())\n",
    "print(\"Mean of LDAPS_CC1 = \", df[\"LDAPS_CC1\"].mean())\n",
    "print(\"Mean of LDAPS_CC2 = \", df[\"LDAPS_CC2\"].mean())\n",
    "print(\"Mean of Next_Tmax = \", df[\"Next_Tmax\"].mean())\n",
    "print(\"Mean of Next_Tmin = \", df[\"Next_Tmin\"].mean())"
   ]
  },
  {
   "cell_type": "code",
   "execution_count": null,
   "id": "e4723489",
   "metadata": {},
   "outputs": [],
   "source": [
    "# now lets replace nan values with these mean values\n",
    "mean_col=[\"Present_Tmax\",\"Present_Tmin\",\"LDAPS_RHmin\",\"LDAPS_Tmax_lapse\",\"LDAPS_CC1\",\"LDAPS_CC2\",\"Next_Tmax\",\"Next_Tmin\"]\n",
    "for i in mean_col:\n",
    "  df[i]=df[i].replace(np.nan,df[i].mean())"
   ]
  },
  {
   "cell_type": "code",
   "execution_count": null,
   "id": "1d8f797b",
   "metadata": {},
   "outputs": [],
   "source": [
    "\n",
    "# Now lets replace NaN values in columns where ourliers are present with median\n",
    "print(\"Median of LDAPS_RHmax = \",df[\"LDAPS_RHmax\"].median())\n",
    "print(\"Median of LDAPS_Tmin_lapse = \", df[\"LDAPS_Tmin_lapse\"].median())\n",
    "print(\"Median of LDAPS_WS = \",df[\"LDAPS_WS\"].median())\n",
    "print(\"Median of LDAPS_LH = \",df[\"LDAPS_LH\"].median())\n",
    "print(\"Median of LDAPS_CC3 = \",df[\"LDAPS_CC3\"].median())\n",
    "print(\"Median of LDAPS_CC4 = \",df[\"LDAPS_CC4\"].median())\n",
    "print(\"Median of LDAPS_PPT1 = \",df[\"LDAPS_PPT1\"].median())\n",
    "print(\"Median of LDAPS_PPT2 = \",df[\"LDAPS_PPT2\"].median())\n",
    "print(\"Median of LDAPS_PPT3 = \",df[\"LDAPS_PPT3\"].median())\n",
    "print(\"Median of LDAPS_PPT4 = \",df[\"LDAPS_PPT4\"].median())"
   ]
  },
  {
   "cell_type": "code",
   "execution_count": null,
   "id": "ca6e42f0",
   "metadata": {},
   "outputs": [],
   "source": [
    "# replacing null values with median values of that column\n",
    "med_col=[\"LDAPS_RHmax\",\"LDAPS_Tmin_lapse\",\"LDAPS_WS\",\"LDAPS_LH\",\"LDAPS_CC3\",\"LDAPS_CC4\",\"LDAPS_PPT1\",\"LDAPS_PPT2\",\"LDAPS_PPT3\",\"LDAPS_PPT4\"]\n",
    "for i in med_col:\n",
    "  df[i]=df[i].replace(np.nan,df[i].median())"
   ]
  },
  {
   "cell_type": "code",
   "execution_count": null,
   "id": "405e6bb1",
   "metadata": {},
   "outputs": [],
   "source": [
    "\n",
    "# lets recheck null values\n",
    "df.isnull().sum()"
   ]
  },
  {
   "cell_type": "code",
   "execution_count": null,
   "id": "13c54bf0",
   "metadata": {},
   "outputs": [],
   "source": [
    "\n",
    "# Let's visualize the null values again\n",
    "plt.figure(figsize=(9,7))\n",
    "sns.heatmap(df.isnull())\n",
    "plt.show()"
   ]
  },
  {
   "cell_type": "code",
   "execution_count": null,
   "id": "d64a5b6e",
   "metadata": {},
   "outputs": [],
   "source": [
    "df.dtypes"
   ]
  },
  {
   "cell_type": "code",
   "execution_count": null,
   "id": "6516f563",
   "metadata": {},
   "outputs": [],
   "source": [
    "df.describe()\n",
    "     "
   ]
  },
  {
   "cell_type": "code",
   "execution_count": null,
   "id": "d8b0a17f",
   "metadata": {},
   "outputs": [],
   "source": [
    "# lets check the value counts of each column\n",
    "for i in df.columns:\n",
    "    print(df[i].value_counts())\n",
    "    print('--------------------------------------------------')"
   ]
  },
  {
   "cell_type": "code",
   "execution_count": null,
   "id": "58d8cf52",
   "metadata": {},
   "outputs": [],
   "source": [
    "\n",
    "# Lets convert the datatype of date column from object datatype to datetime datatype\n",
    "df['Date']=pd.to_datetime(df['Date'])\n",
    "df.dtypes\n",
    "     "
   ]
  },
  {
   "cell_type": "code",
   "execution_count": null,
   "id": "b9fb016b",
   "metadata": {},
   "outputs": [],
   "source": [
    "# Now lets split Day, month and year from the date column\n",
    "#Day\n",
    "df[\"Day\"]=df[\"Date\"].dt.day\n",
    "\n",
    "# Month\n",
    "df[\"Month\"]=df[\"Date\"].dt.month\n",
    "\n",
    "# Year\n",
    "df[\"Year\"]=df[\"Date\"].dt.year"
   ]
  },
  {
   "cell_type": "code",
   "execution_count": null,
   "id": "effe727c",
   "metadata": {},
   "outputs": [],
   "source": [
    "\n",
    "#Lets drop the date column from the dataset to avoid duplication.\n",
    "df.drop(\"Date\", axis=1,inplace=True)"
   ]
  },
  {
   "cell_type": "code",
   "execution_count": null,
   "id": "a6290ea7",
   "metadata": {},
   "outputs": [],
   "source": [
    "# lets check the dataset head using df.head()\n",
    "df.head()"
   ]
  },
  {
   "cell_type": "code",
   "execution_count": null,
   "id": "01617b8d",
   "metadata": {},
   "outputs": [],
   "source": []
  }
 ],
 "metadata": {
  "kernelspec": {
   "display_name": "Python 3 (ipykernel)",
   "language": "python",
   "name": "python3"
  },
  "language_info": {
   "codemirror_mode": {
    "name": "ipython",
    "version": 3
   },
   "file_extension": ".py",
   "mimetype": "text/x-python",
   "name": "python",
   "nbconvert_exporter": "python",
   "pygments_lexer": "ipython3",
   "version": "3.9.13"
  }
 },
 "nbformat": 4,
 "nbformat_minor": 5
}
