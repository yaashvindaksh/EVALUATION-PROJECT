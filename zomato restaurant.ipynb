{
 "cells": [
  {
   "cell_type": "code",
   "execution_count": null,
   "id": "72c99397",
   "metadata": {},
   "outputs": [],
   "source": [
    "import numpy as np\n",
    "import pandas as pd\n",
    "import seaborn as sns\n",
    "from dython import nominal\n",
    "import matplotlib.pyplot as plt\n",
    "%matplotlib inline\n",
    "\n",
    "from IPython.core.display import HTML    # To centralize the plots\n",
    "HTML(\"\"\"\n",
    "<style>\n",
    ".output_png {\n",
    "    display: table-cell;\n",
    "    text-align: center;\n",
    "    vertical-align: middle;\n",
    "}\n",
    "</style>\n",
    "\"\"\")"
   ]
  },
  {
   "cell_type": "code",
   "execution_count": null,
   "id": "57812f64",
   "metadata": {},
   "outputs": [],
   "source": [
    "df = pd.read_csv('zomato.csv', encoding='ISO-8859-1') # Specifying the encoding is important or it will raise UTF error"
   ]
  },
  {
   "cell_type": "code",
   "execution_count": null,
   "id": "9ea9ac8e",
   "metadata": {},
   "outputs": [],
   "source": [
    "df.shape"
   ]
  },
  {
   "cell_type": "code",
   "execution_count": null,
   "id": "f0b9397d",
   "metadata": {},
   "outputs": [],
   "source": [
    "df.columns"
   ]
  },
  {
   "cell_type": "code",
   "execution_count": null,
   "id": "46e3270a",
   "metadata": {},
   "outputs": [],
   "source": [
    "pd.set_option('display.max_columns',21)\n",
    "df.head()\n"
   ]
  },
  {
   "cell_type": "code",
   "execution_count": null,
   "id": "11f4d408",
   "metadata": {},
   "outputs": [],
   "source": [
    "\n",
    "df.info()"
   ]
  },
  {
   "cell_type": "code",
   "execution_count": null,
   "id": "57da0342",
   "metadata": {},
   "outputs": [],
   "source": [
    "df.describe() # Looking at just the numerical columns"
   ]
  },
  {
   "cell_type": "code",
   "execution_count": null,
   "id": "beed7d9b",
   "metadata": {},
   "outputs": [],
   "source": [
    "sns.heatmap(df.isnull().sum().values.reshape(-1,1), \\\n",
    "            annot=True, cmap=plt.cm.Blues, yticklabels=df.columns)\n",
    "plt.xlabel('Null Values')\n",
    "plt.show()"
   ]
  },
  {
   "cell_type": "code",
   "execution_count": null,
   "id": "6809b422",
   "metadata": {},
   "outputs": [],
   "source": [
    "df.dropna(inplace=True)"
   ]
  },
  {
   "cell_type": "code",
   "execution_count": null,
   "id": "448b31f6",
   "metadata": {},
   "outputs": [],
   "source": [
    "sns.heatmap(df.isnull().sum().values.reshape(-1,1), \\\n",
    "            annot=True, cmap=plt.cm.Blues, yticklabels=df.columns)\n",
    "plt.xlabel('Null Values')\n",
    "plt.show()"
   ]
  },
  {
   "cell_type": "code",
   "execution_count": null,
   "id": "37fb8b90",
   "metadata": {},
   "outputs": [],
   "source": [
    "df['Switch to order menu']"
   ]
  },
  {
   "cell_type": "code",
   "execution_count": null,
   "id": "6c1b24ff",
   "metadata": {},
   "outputs": [],
   "source": [
    "df['Switch to order menu'].value_counts()"
   ]
  },
  {
   "cell_type": "code",
   "execution_count": null,
   "id": "52a61d81",
   "metadata": {},
   "outputs": [],
   "source": [
    "df.drop('Switch to order menu', axis=1, inplace = True)"
   ]
  },
  {
   "cell_type": "code",
   "execution_count": null,
   "id": "b0b45326",
   "metadata": {},
   "outputs": [],
   "source": [
    "\n",
    "df.columns"
   ]
  },
  {
   "cell_type": "code",
   "execution_count": null,
   "id": "e1e1a4d2",
   "metadata": {},
   "outputs": [],
   "source": [
    "df['Restaurant Name'].value_counts()"
   ]
  },
  {
   "cell_type": "code",
   "execution_count": null,
   "id": "1f236a4c",
   "metadata": {},
   "outputs": [],
   "source": [
    "df.Locality.value_counts().value_counts() # Remember, we can specify a column both as df['column'] and df.column"
   ]
  },
  {
   "cell_type": "code",
   "execution_count": null,
   "id": "f6c40612",
   "metadata": {},
   "outputs": [],
   "source": [
    "df['Has Table booking'].value_counts()"
   ]
  },
  {
   "cell_type": "code",
   "execution_count": null,
   "id": "94d22a68",
   "metadata": {},
   "outputs": [],
   "source": [
    "df['Has Online delivery'].value_counts()"
   ]
  },
  {
   "cell_type": "code",
   "execution_count": null,
   "id": "11b91250",
   "metadata": {},
   "outputs": [],
   "source": [
    "df['Is delivering now'].value_counts()"
   ]
  },
  {
   "cell_type": "code",
   "execution_count": null,
   "id": "af53f76f",
   "metadata": {},
   "outputs": [],
   "source": [
    "df.City.value_counts()"
   ]
  },
  {
   "cell_type": "code",
   "execution_count": null,
   "id": "b485843a",
   "metadata": {},
   "outputs": [],
   "source": [
    "nominal.associations(df,figsize=(20,10),mark_columns=True,title=\"Correlation Matrix\") # correlation matrix\n",
    "plt.show()"
   ]
  },
  {
   "cell_type": "code",
   "execution_count": null,
   "id": "6d4beb27",
   "metadata": {},
   "outputs": [],
   "source": [
    "print( f\"Total number of restaurants:    {df['Restaurant Name'].value_counts().shape[0]}\")\n",
    "print(f\"Restaurants with 1 value count: {(df['Restaurant Name'].value_counts() == 1).sum()}\")"
   ]
  },
  {
   "cell_type": "code",
   "execution_count": null,
   "id": "dc45c643",
   "metadata": {},
   "outputs": [],
   "source": [
    "df['Restaurant Name'].value_counts().head(10)"
   ]
  },
  {
   "cell_type": "code",
   "execution_count": null,
   "id": "3f5fe099",
   "metadata": {},
   "outputs": [],
   "source": [
    "def dummy(rest_name,column):\n",
    "    df[column] = df['Restaurant Name'].apply(lambda x: 1 if str(x).strip()==rest_name\\\n",
    "                                             else 0)"
   ]
  },
  {
   "cell_type": "code",
   "execution_count": null,
   "id": "b91806cd",
   "metadata": {},
   "outputs": [],
   "source": [
    "dummy('Cafe Coffee Day','cafe_coffee_day')"
   ]
  },
  {
   "cell_type": "code",
   "execution_count": null,
   "id": "7f0ff50e",
   "metadata": {},
   "outputs": [],
   "source": [
    "df.loc[df['cafe_coffee_day']==1].head(3)"
   ]
  },
  {
   "cell_type": "code",
   "execution_count": null,
   "id": "c4d53aca",
   "metadata": {},
   "outputs": [],
   "source": [
    "def dum_col(x):\n",
    "    return x.strip().lower().replace(' ','_')\n",
    "\n",
    "def dummy(lst,column):\n",
    "    for i in lst.index:\n",
    "        df[dum_col(i)] = df[column].apply(lambda x: i in x)"
   ]
  },
  {
   "cell_type": "code",
   "execution_count": null,
   "id": "8da17a1f",
   "metadata": {},
   "outputs": [],
   "source": [
    "restaurants = df['Restaurant Name'].value_counts().head(10)\n",
    "dummy(restaurants,'Restaurant Name')"
   ]
  },
  {
   "cell_type": "code",
   "execution_count": null,
   "id": "df3a4aab",
   "metadata": {},
   "outputs": [],
   "source": [
    "df.head()"
   ]
  },
  {
   "cell_type": "code",
   "execution_count": null,
   "id": "6485943e",
   "metadata": {},
   "outputs": [],
   "source": [
    "print(f\"Number of Cafe Coffee Day's: {df.loc[df['cafe_coffee_day']==1].size}\")"
   ]
  },
  {
   "cell_type": "code",
   "execution_count": null,
   "id": "9fc42c3e",
   "metadata": {},
   "outputs": [],
   "source": [
    "df.shape"
   ]
  },
  {
   "cell_type": "code",
   "execution_count": null,
   "id": "ebac59f7",
   "metadata": {},
   "outputs": [],
   "source": [
    "features = ['Price range','Votes','Country Code','Restaurant ID','Longitude',\n",
    "            'Has Table booking','Has Online delivery','cafe_coffee_day',\n",
    "            \"domino's_pizza\",'subway','green_chick_chop',\"mcdonald's\",'keventers',\n",
    "            'pizza_hut','giani','baskin_robbins','barbeque_nation',\n",
    "            'Aggregate rating']# --> Only added to see correlation, must be removed later"
   ]
  },
  {
   "cell_type": "code",
   "execution_count": null,
   "id": "d6a45f5b",
   "metadata": {},
   "outputs": [],
   "source": [
    "nominal.associations(df[features],figsize=(20,10),mark_columns=True,\\\n",
    "                     title=\"Correlation Matrix (features)\")\n",
    "plt.show()"
   ]
  },
  {
   "cell_type": "code",
   "execution_count": null,
   "id": "7806fa54",
   "metadata": {},
   "outputs": [],
   "source": [
    "features = ['Price range','Votes','Country Code','Restaurant ID','Longitude',\n",
    "            'Has Table booking','Has Online delivery','barbeque_nation']"
   ]
  },
  {
   "cell_type": "code",
   "execution_count": null,
   "id": "9d0ba63a",
   "metadata": {},
   "outputs": [],
   "source": [
    "X = pd.get_dummies(df[features])\n",
    "X"
   ]
  },
  {
   "cell_type": "code",
   "execution_count": null,
   "id": "fdff1eb8",
   "metadata": {},
   "outputs": [],
   "source": [
    "\n",
    "y = df['Aggregate rating']"
   ]
  },
  {
   "cell_type": "code",
   "execution_count": null,
   "id": "890d4c93",
   "metadata": {},
   "outputs": [],
   "source": [
    "from sklearn.model_selection import train_test_split\n",
    "\n",
    "X_train,X_test,y_train,y_test = train_test_split(X,y,test_size=0.2,random_state=1)"
   ]
  },
  {
   "cell_type": "code",
   "execution_count": null,
   "id": "fdc88c76",
   "metadata": {},
   "outputs": [],
   "source": [
    "from sklearn.ensemble import RandomForestRegressor\n",
    "rf = RandomForestRegressor(random_state = 2)"
   ]
  },
  {
   "cell_type": "code",
   "execution_count": null,
   "id": "61c05071",
   "metadata": {},
   "outputs": [],
   "source": [
    "rf.fit(X_train,y_train)\n",
    "y_pred = rf.predict(X_test)"
   ]
  },
  {
   "cell_type": "code",
   "execution_count": null,
   "id": "3acc3136",
   "metadata": {},
   "outputs": [],
   "source": [
    "from sklearn import metrics\n",
    "mse = metrics.mean_squared_error(y_test, y_pred)\n",
    "rmse = metrics.mean_squared_error(y_test,y_pred,squared=False)\n",
    "mae = metrics.mean_absolute_error(y_test, y_pred)\n",
    "medae = metrics.median_absolute_error(y_test, y_pred)\n",
    "\n",
    "\n",
    "print(f\"Mean Squared Error (MSE): {mse}\")\n",
    "print(f\"Root Mean Squared Error (RMSE): {rmse}\")\n",
    "print(f\"Mean Absolute Error (MAE): {mae}\")\n",
    "print(f\"Median Absolute Error (MEDAE): {medae}\")\n",
    "print(f'Test variance: {np.var(y_test)}')"
   ]
  },
  {
   "cell_type": "code",
   "execution_count": null,
   "id": "a253d4bf",
   "metadata": {},
   "outputs": [],
   "source": [
    "residuals = y_test - y_pred\n",
    "# plot the residuals\n",
    "plt.scatter(np.linspace(0,5,1909), residuals,c=residuals,cmap='magma', edgecolors='black', linewidths=.1)\n",
    "plt.colorbar(label=\"Quality\", orientation=\"vertical\")\n",
    "# plot a horizontal line at y = 0\n",
    "plt.hlines(y = 0,\n",
    "xmin = 0, xmax=5,\n",
    "linestyle='--',colors='black')\n",
    "# set xlim\n",
    "plt.xlim((0, 5))\n",
    "plt.xlabel('Aggregate Rating'); plt.ylabel('Residuals')\n",
    "plt.show()"
   ]
  },
  {
   "cell_type": "code",
   "execution_count": null,
   "id": "411a2f32",
   "metadata": {},
   "outputs": [],
   "source": [
    "print(f\"Error range: {residuals.max()-residuals.min()}\")"
   ]
  },
  {
   "cell_type": "code",
   "execution_count": null,
   "id": "75cfe1de",
   "metadata": {},
   "outputs": [],
   "source": [
    "# from sklearn.model_selection import RandomizedSearchCV\n",
    "\n",
    "# n_estimators = [int(x) for x in np.linspace(start = 200, stop = 2000, num = 10)]\n",
    "# max_features = ['auto', 'sqrt']\n",
    "# max_depth = [int(x) for x in np.linspace(10, 110, num = 11)]\n",
    "# max_depth.append(None)\n",
    "# min_samples_split = [2, 5, 10]\n",
    "# min_samples_leaf = [1, 2, 4]\n",
    "# bootstrap = [True, False]\n",
    "\n",
    "# random_grid = {'n_estimators': n_estimators,\n",
    "#                'max_features': max_features,\n",
    "#                'max_depth': max_depth,\n",
    "#                'min_samples_split': min_samples_split,\n",
    "#                'min_samples_leaf': min_samples_leaf,\n",
    "#                'bootstrap': bootstrap}\n",
    "\n",
    "# rf2 = RandomForestRegressor(random_state=2)\n",
    "\n",
    "# rf_rscv = RandomizedSearchCV(estimator=rf2, param_distributions=random_grid,\\\n",
    "#                              n_iter = 100, cv = 3, verbose=2, random_state=2, n_jobs = -1)\n",
    "# rf_rscv.fit(X_train,y_train)\n",
    "# print(rf_rscv.best_params_)\n",
    "\n",
    "# Output:\n",
    "#      n_estimators= 1200,\n",
    "#      min_samples_split= 10,\n",
    "#      min_samples_leaf= 1,\n",
    "#      max_depth = 30,\n",
    "#      bootstrap= True,\n",
    "#      random_state=2"
   ]
  },
  {
   "cell_type": "code",
   "execution_count": null,
   "id": "66312630",
   "metadata": {},
   "outputs": [],
   "source": [
    "rf_random = RandomForestRegressor(\n",
    "      n_estimators= 1200,\n",
    "      min_samples_split= 10,\n",
    "      min_samples_leaf= 1,\n",
    "      max_depth = 30,\n",
    "      max_features='sqrt',\n",
    "      bootstrap= True,\n",
    "      random_state=2) # Best RandomizedSearch parameters\n",
    "\n",
    "rf_random.fit(X_train,y_train)\n",
    "random_pred = rf_random.predict(X_test)"
   ]
  },
  {
   "cell_type": "code",
   "execution_count": null,
   "id": "60f87538",
   "metadata": {},
   "outputs": [],
   "source": [
    "random_mse = metrics.mean_squared_error(y_test, random_pred)\n",
    "random_rmse = metrics.mean_squared_error(y_test, random_pred, squared=False)\n",
    "random_mae = metrics.mean_absolute_error(y_test, random_pred)\n",
    "random_medae = metrics.median_absolute_error(y_test, random_pred)\n",
    "\n",
    "print(f\"Mean Squared Error (MSE): {random_mse}\")\n",
    "print(f\"Root Mean Squared Error (RMSE): {random_rmse}\")\n",
    "print(f\"Mean Absolute Error (MAE): {random_mae}\")\n",
    "print(f\"Median Absolute Error (MEDAE): {random_medae}\")\n",
    "print(f'Test variance: {np.var(y_test)}')"
   ]
  },
  {
   "cell_type": "code",
   "execution_count": null,
   "id": "0eab2ba2",
   "metadata": {},
   "outputs": [],
   "source": [
    "print('Improvements:')\n",
    "print(f\"Mean Squared Error (MSE):       {mse} => {random_mse}\")\n",
    "print(f\"Root Mean Squared Error (RMSE): {rmse} => {random_rmse}\")\n",
    "print(f\"Mean Absolute Error (MAE):      {mae} => {random_mae}\")\n",
    "print(f\"Median Absolute Error (MEDAE):  {mae} => {random_medae}\")\n",
    "print(f'Test variance: {np.var(y_test)}')"
   ]
  },
  {
   "cell_type": "code",
   "execution_count": null,
   "id": "83b6c4cb",
   "metadata": {},
   "outputs": [],
   "source": [
    "f_residuals = y_test - random_pred\n",
    "# plot the residuals\n",
    "plt.scatter(np.linspace(0,5,1909), f_residuals, c = f_residuals, cmap='magma', edgecolors='black', linewidths=.1)\n",
    "plt.colorbar(label = \"Quality\", orientation = \"vertical\")\n",
    "# plot a horizontal line at y = 0\n",
    "plt.hlines(y = 0, xmin = 0, xmax = 5, linestyle = '--', colors = 'black')\n",
    "# set xlim\n",
    "plt.xlim((0, 5))\n",
    "plt.xlabel('Aggregate Rating'); plt.ylabel('Residuals')\n",
    "plt.show()"
   ]
  },
  {
   "cell_type": "code",
   "execution_count": null,
   "id": "c0b29e0d",
   "metadata": {},
   "outputs": [],
   "source": []
  },
  {
   "cell_type": "code",
   "execution_count": null,
   "id": "96ebbb27",
   "metadata": {},
   "outputs": [],
   "source": []
  },
  {
   "cell_type": "code",
   "execution_count": null,
   "id": "66ad8eac",
   "metadata": {},
   "outputs": [],
   "source": []
  },
  {
   "cell_type": "code",
   "execution_count": null,
   "id": "70e73ced",
   "metadata": {},
   "outputs": [],
   "source": []
  },
  {
   "cell_type": "code",
   "execution_count": null,
   "id": "85dedf30",
   "metadata": {},
   "outputs": [],
   "source": []
  }
 ],
 "metadata": {
  "kernelspec": {
   "display_name": "Python 3 (ipykernel)",
   "language": "python",
   "name": "python3"
  },
  "language_info": {
   "codemirror_mode": {
    "name": "ipython",
    "version": 3
   },
   "file_extension": ".py",
   "mimetype": "text/x-python",
   "name": "python",
   "nbconvert_exporter": "python",
   "pygments_lexer": "ipython3",
   "version": "3.9.13"
  }
 },
 "nbformat": 4,
 "nbformat_minor": 5
}
